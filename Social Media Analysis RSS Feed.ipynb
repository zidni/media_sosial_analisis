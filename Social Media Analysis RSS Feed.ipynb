{
 "cells": [
  {
   "cell_type": "markdown",
   "metadata": {},
   "source": [
    "RSS Feed dengan feedparser\n"
   ]
  },
  {
   "cell_type": "code",
   "execution_count": 1,
   "metadata": {},
   "outputs": [
    {
     "name": "stdout",
     "output_type": "stream",
     "text": [
      "news.detik\n",
      "Kebakaran Rumah di Jembatan Besi Padam, 1 Petugas Damkar Alami Luka: http://m.detik.com/read/2018/04/02/041318/3948106/10/kebakaran-rumah-di-jembatan-besi-padam-1-petugas-damkar-alami-luka\n",
      "Riuh Dunia dalam Gambar: Hotel di India Runtuh, Bianglala Rusak: http://m.detik.com/readfoto/2018/04/01/182623/3947871/157/1/riuh-dunia-dalam-gambar-hotel-di-india-runtuh-bianglala-rusak\n",
      "Yuk Ikutan Rejeki Nama Jilid II, Jangan Sampai Ketinggalan!: http://m.detik.com/read/2018/03/23/115353/3932708/10/yuk-ikutan-rejeki-nama-jilid-ii-jangan-sampai-ketinggalan\n",
      "'Chelsea Tak Bermain Jelek': http://m.detik.com/read/2018/04/02/043140/3948108/72/chelsea-tak-bermain-jelek\n",
      "Hari Membanggakan untuk Spurs: http://m.detik.com/read/2018/04/02/043805/3948109/72/hari-membanggakan-untuk-spurs\n",
      "Gol Tunggal Gameiro Menangkan Atletico: http://m.detik.com/read/2018/04/02/034930/3948107/75/gol-tunggal-gameiro-menangkan-atletico\n",
      "Foto: 4 Jam Proses Pemadaman Kebakaran Rumah di Jembatan Besi: http://m.detik.com/readfoto/2018/04/02/032526/3948095/157/1/foto-4-jam-proses-pemadaman-kebakaran-rumah-di-jembatan-besi\n",
      "Dele Alli Meledak di Laga Premier League ke-100 Bersama Tottenham: http://m.detik.com/read/2018/04/02/024934/3948093/72/dele-alli-meledak-di-laga-premier-league-ke-100-bersama-tottenham\n",
      "Polisi Tangkap 5 Pelaku Penyerangan Posko Pemkot Makassar: http://m.detik.com/read/2018/04/02/030015/3948094/10/polisi-tangkap-5-pelaku-penyerangan-posko-pemkot-makassar\n",
      "Setelah 28 Tahun, Spurs Menang Lagi di Stamford Bridge: http://m.detik.com/read/2018/04/02/022455/3948092/72/setelah-28-tahun-spurs-menang-lagi-di-stamford-bridge\n"
     ]
    }
   ],
   "source": [
    "import feedparser\n",
    "\n",
    "d = feedparser.parse('http://rss.detik.com/index.php/detikcom')\n",
    "\n",
    "\n",
    "print(d['feed']['title'])\n",
    "\n",
    "\n",
    "for post in d.entries:\n",
    "    print(post.title + \": \" + post.link + \"\")"
   ]
  },
  {
   "cell_type": "code",
   "execution_count": null,
   "metadata": {
    "collapsed": true
   },
   "outputs": [],
   "source": []
  }
 ],
 "metadata": {
  "kernelspec": {
   "display_name": "Python 3",
   "language": "python",
   "name": "python3"
  },
  "language_info": {
   "codemirror_mode": {
    "name": "ipython",
    "version": 3
   },
   "file_extension": ".py",
   "mimetype": "text/x-python",
   "name": "python",
   "nbconvert_exporter": "python",
   "pygments_lexer": "ipython3",
   "version": "3.6.3"
  }
 },
 "nbformat": 4,
 "nbformat_minor": 2
}
