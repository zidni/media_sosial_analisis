{
 "cells": [
  {
   "cell_type": "markdown",
   "metadata": {},
   "source": [
    "Using Spark and Text file for storing data from Social Media"
   ]
  },
  {
   "cell_type": "code",
   "execution_count": 18,
   "metadata": {},
   "outputs": [
    {
     "name": "stdout",
     "output_type": "stream",
     "text": [
      "Writing to JSON tweet number:1\n",
      "Writing to JSON tweet number:2\n",
      "Writing to JSON tweet number:3\n",
      "Writing to JSON tweet number:4\n",
      "Writing to JSON tweet number:5\n",
      "Writing to JSON tweet number:6\n",
      "Writing to JSON tweet number:7\n",
      "Writing to JSON tweet number:8\n",
      "Writing to JSON tweet number:9\n",
      "Writing to JSON tweet number:10\n",
      "Writing to JSON tweet number:11\n",
      "completed, errorCount =0 total tweets=11\n"
     ]
    }
   ],
   "source": [
    "import tweepy\n",
    "import json\n",
    "import time\n",
    "\n",
    "\n",
    "consumer_key = 'pMJ2au52K4CZfoNdEyE2X8taN'\n",
    "consumer_secret = 'yeXIq7g9YPZQ5CFerPSmKcaQwS5RuNH6jWuj28iXqnOQzVeSri'\n",
    "access_token = '45675265-qacI7qadnG6ZVrMsqUCtaojNjAUnsigUh8tb3n4wn'\n",
    "access_secret = 'sIoWBa6xorM1D8kbiOBInkto5734YrikwsdVPhIQGlPbh'\n",
    "\n",
    "auth = tweepy.OAuthHandler(consumer_key, consumer_secret)\n",
    "auth.set_access_token(access_token, access_secret)\n",
    "api = tweepy.API(auth, wait_on_rate_limit=True, wait_on_rate_limit_notify=True)\n",
    "#refer http://docs.tweepy.org/en/v3.2.0/api.html#API\n",
    "#tells tweepy.API to automatically wait for rate limits to replenish\n",
    "\n",
    "#Put your search term\n",
    "searchquery = \"Pajak Bumi Bangunan\"\n",
    "\n",
    "users =tweepy.Cursor(api.search,q=searchquery).items()\n",
    "count = 0\n",
    "errorCount=0\n",
    "\n",
    "file = open('search_PBB.json', 'w') \n",
    "\n",
    "while True:\n",
    "    try:\n",
    "        user = next(users)\n",
    "        count += 1\n",
    "        #use count-break during dev to avoid twitter restrictions\n",
    "        #if (count>10):\n",
    "        #    break\n",
    "    except tweepy.TweepError:\n",
    "        #catches TweepError when rate limiting occurs, sleeps, then restarts.\n",
    "        #nominally 15 minnutes, make a bit longer to avoid attention.\n",
    "        print(\"sleeping....\")\n",
    "        time.sleep(60*16)\n",
    "        user = next(users)\n",
    "    except StopIteration:\n",
    "        break\n",
    "    try:\n",
    "        print(\"Writing to JSON tweet number:\"+str(count))\n",
    "        json.dump(user._json,file,sort_keys = True,indent = 4)\n",
    "        \n",
    "    except UnicodeEncodeError:\n",
    "        errorCount += 1\n",
    "        print(\"UnicodeEncodeError,errorCount =\"+str(errorCount))\n",
    "\n",
    "print(\"completed, errorCount =\"+str(errorCount)+\" total tweets=\"+str(count))\n",
    "    "
   ]
  },
  {
   "cell_type": "code",
   "execution_count": null,
   "metadata": {
    "collapsed": true
   },
   "outputs": [],
   "source": []
  }
 ],
 "metadata": {
  "kernelspec": {
   "display_name": "Python 3",
   "language": "python",
   "name": "python3"
  },
  "language_info": {
   "codemirror_mode": {
    "name": "ipython",
    "version": 3
   },
   "file_extension": ".py",
   "mimetype": "text/x-python",
   "name": "python",
   "nbconvert_exporter": "python",
   "pygments_lexer": "ipython3",
   "version": "3.6.3"
  }
 },
 "nbformat": 4,
 "nbformat_minor": 2
}
